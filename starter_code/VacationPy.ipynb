{
 "cells": [
  {
   "cell_type": "markdown",
   "metadata": {},
   "source": [
    "# VacationPy\n",
    "----\n",
    "\n",
    "#### Note\n",
    "* Instructions have been included for each segment. You do not have to follow them exactly, but they are included to help you think through the steps."
   ]
  },
  {
   "cell_type": "code",
   "execution_count": 149,
   "metadata": {},
   "outputs": [],
   "source": [
    "# Dependencies and Setup\n",
    "import matplotlib.pyplot as plt\n",
    "import pandas as pd\n",
    "import numpy as np\n",
    "import requests\n",
    "import gmaps\n",
    "import json \n",
    "import os\n",
    "\n",
    "# Import API key\n",
    "from api_keys import g_key\n"
   ]
  },
  {
   "cell_type": "markdown",
   "metadata": {},
   "source": [
    "### Store Part I results into DataFrame\n",
    "* Load the csv exported in Part I to a DataFrame"
   ]
  },
  {
   "cell_type": "code",
   "execution_count": 150,
   "metadata": {},
   "outputs": [
    {
     "data": {
      "text/html": [
       "<div>\n",
       "<style scoped>\n",
       "    .dataframe tbody tr th:only-of-type {\n",
       "        vertical-align: middle;\n",
       "    }\n",
       "\n",
       "    .dataframe tbody tr th {\n",
       "        vertical-align: top;\n",
       "    }\n",
       "\n",
       "    .dataframe thead th {\n",
       "        text-align: right;\n",
       "    }\n",
       "</style>\n",
       "<table border=\"1\" class=\"dataframe\">\n",
       "  <thead>\n",
       "    <tr style=\"text-align: right;\">\n",
       "      <th></th>\n",
       "      <th>Unnamed: 0</th>\n",
       "      <th>City</th>\n",
       "      <th>Cloudiness</th>\n",
       "      <th>Country</th>\n",
       "      <th>Date</th>\n",
       "      <th>Humidity</th>\n",
       "      <th>Lat</th>\n",
       "      <th>Long</th>\n",
       "      <th>Max Temp</th>\n",
       "      <th>Wind Speed</th>\n",
       "    </tr>\n",
       "  </thead>\n",
       "  <tbody>\n",
       "    <tr>\n",
       "      <th>0</th>\n",
       "      <td>0</td>\n",
       "      <td>emba</td>\n",
       "      <td>99</td>\n",
       "      <td>KZ</td>\n",
       "      <td>1584643002</td>\n",
       "      <td>71</td>\n",
       "      <td>48.83</td>\n",
       "      <td>58.14</td>\n",
       "      <td>36.41</td>\n",
       "      <td>7.65</td>\n",
       "    </tr>\n",
       "    <tr>\n",
       "      <th>1</th>\n",
       "      <td>1</td>\n",
       "      <td>mataura</td>\n",
       "      <td>50</td>\n",
       "      <td>NZ</td>\n",
       "      <td>1584643003</td>\n",
       "      <td>68</td>\n",
       "      <td>-46.19</td>\n",
       "      <td>168.86</td>\n",
       "      <td>50.00</td>\n",
       "      <td>14.00</td>\n",
       "    </tr>\n",
       "    <tr>\n",
       "      <th>2</th>\n",
       "      <td>2</td>\n",
       "      <td>chuy</td>\n",
       "      <td>3</td>\n",
       "      <td>UY</td>\n",
       "      <td>1584643003</td>\n",
       "      <td>50</td>\n",
       "      <td>-33.70</td>\n",
       "      <td>-53.46</td>\n",
       "      <td>77.09</td>\n",
       "      <td>16.84</td>\n",
       "    </tr>\n",
       "    <tr>\n",
       "      <th>3</th>\n",
       "      <td>3</td>\n",
       "      <td>esperance</td>\n",
       "      <td>75</td>\n",
       "      <td>AU</td>\n",
       "      <td>1584643003</td>\n",
       "      <td>93</td>\n",
       "      <td>-33.87</td>\n",
       "      <td>121.90</td>\n",
       "      <td>59.00</td>\n",
       "      <td>4.70</td>\n",
       "    </tr>\n",
       "    <tr>\n",
       "      <th>4</th>\n",
       "      <td>4</td>\n",
       "      <td>kurilsk</td>\n",
       "      <td>79</td>\n",
       "      <td>RU</td>\n",
       "      <td>1584643004</td>\n",
       "      <td>99</td>\n",
       "      <td>45.23</td>\n",
       "      <td>147.88</td>\n",
       "      <td>36.05</td>\n",
       "      <td>7.31</td>\n",
       "    </tr>\n",
       "  </tbody>\n",
       "</table>\n",
       "</div>"
      ],
      "text/plain": [
       "   Unnamed: 0       City  Cloudiness Country        Date  Humidity    Lat  \\\n",
       "0           0       emba          99      KZ  1584643002        71  48.83   \n",
       "1           1    mataura          50      NZ  1584643003        68 -46.19   \n",
       "2           2       chuy           3      UY  1584643003        50 -33.70   \n",
       "3           3  esperance          75      AU  1584643003        93 -33.87   \n",
       "4           4    kurilsk          79      RU  1584643004        99  45.23   \n",
       "\n",
       "     Long  Max Temp  Wind Speed  \n",
       "0   58.14     36.41        7.65  \n",
       "1  168.86     50.00       14.00  \n",
       "2  -53.46     77.09       16.84  \n",
       "3  121.90     59.00        4.70  \n",
       "4  147.88     36.05        7.31  "
      ]
     },
     "execution_count": 150,
     "metadata": {},
     "output_type": "execute_result"
    }
   ],
   "source": [
    "#read csv from previous activity\n",
    "output_file = pd.read_csv(\"../output_data/weather_df.csv\")\n",
    "output_file.head()"
   ]
  },
  {
   "cell_type": "markdown",
   "metadata": {},
   "source": [
    "### Humidity Heatmap\n",
    "* Configure gmaps.\n",
    "* Use the Lat and Lng as locations and Humidity as the weight.\n",
    "* Add Heatmap layer to map."
   ]
  },
  {
   "cell_type": "code",
   "execution_count": 151,
   "metadata": {},
   "outputs": [],
   "source": [
    "gmaps.configure(api_key=g_key)"
   ]
  },
  {
   "cell_type": "code",
   "execution_count": 152,
   "metadata": {},
   "outputs": [],
   "source": [
    "#help(gmaps.heatmap_layer)"
   ]
  },
  {
   "cell_type": "code",
   "execution_count": 153,
   "metadata": {},
   "outputs": [],
   "source": [
    "locations=output_file[[\"Lat\", \"Long\"]]\n",
    "weight = output_file[\"Humidity\"]\n",
    "figure = gmaps.figure()\n",
    "heat_layer=gmaps.heatmap_layer(locations, weight, \n",
    "                            dissipating=False,\n",
    "                            max_intensity =5,\n",
    "                            point_radius =1)\n",
    "figure.add_layer(heat_layer)"
   ]
  },
  {
   "cell_type": "code",
   "execution_count": 154,
   "metadata": {},
   "outputs": [
    {
     "data": {
      "application/vnd.jupyter.widget-view+json": {
       "model_id": "8545e4bfdfa645febf4c50d2d3b72571",
       "version_major": 2,
       "version_minor": 0
      },
      "text/plain": [
       "Figure(layout=FigureLayout(height='420px'))"
      ]
     },
     "metadata": {},
     "output_type": "display_data"
    }
   ],
   "source": [
    "figure"
   ]
  },
  {
   "cell_type": "markdown",
   "metadata": {},
   "source": [
    "### Create new DataFrame fitting weather criteria\n",
    "* Narrow down the cities to fit weather conditions.\n",
    "* Drop any rows will null values."
   ]
  },
  {
   "cell_type": "code",
   "execution_count": 155,
   "metadata": {},
   "outputs": [
    {
     "data": {
      "text/html": [
       "<div>\n",
       "<style scoped>\n",
       "    .dataframe tbody tr th:only-of-type {\n",
       "        vertical-align: middle;\n",
       "    }\n",
       "\n",
       "    .dataframe tbody tr th {\n",
       "        vertical-align: top;\n",
       "    }\n",
       "\n",
       "    .dataframe thead th {\n",
       "        text-align: right;\n",
       "    }\n",
       "</style>\n",
       "<table border=\"1\" class=\"dataframe\">\n",
       "  <thead>\n",
       "    <tr style=\"text-align: right;\">\n",
       "      <th></th>\n",
       "      <th>Unnamed: 0</th>\n",
       "      <th>City</th>\n",
       "      <th>Cloudiness</th>\n",
       "      <th>Country</th>\n",
       "      <th>Date</th>\n",
       "      <th>Humidity</th>\n",
       "      <th>Lat</th>\n",
       "      <th>Long</th>\n",
       "      <th>Max Temp</th>\n",
       "      <th>Wind Speed</th>\n",
       "    </tr>\n",
       "  </thead>\n",
       "  <tbody>\n",
       "    <tr>\n",
       "      <th>282</th>\n",
       "      <td>282</td>\n",
       "      <td>adrar</td>\n",
       "      <td>0</td>\n",
       "      <td>MR</td>\n",
       "      <td>1584643071</td>\n",
       "      <td>15</td>\n",
       "      <td>20.50</td>\n",
       "      <td>-10.07</td>\n",
       "      <td>79.43</td>\n",
       "      <td>9.31</td>\n",
       "    </tr>\n",
       "    <tr>\n",
       "      <th>291</th>\n",
       "      <td>291</td>\n",
       "      <td>khudaganj</td>\n",
       "      <td>0</td>\n",
       "      <td>IN</td>\n",
       "      <td>1584643073</td>\n",
       "      <td>41</td>\n",
       "      <td>28.15</td>\n",
       "      <td>79.72</td>\n",
       "      <td>70.25</td>\n",
       "      <td>5.23</td>\n",
       "    </tr>\n",
       "    <tr>\n",
       "      <th>399</th>\n",
       "      <td>399</td>\n",
       "      <td>richards bay</td>\n",
       "      <td>0</td>\n",
       "      <td>ZA</td>\n",
       "      <td>1584643098</td>\n",
       "      <td>75</td>\n",
       "      <td>-28.78</td>\n",
       "      <td>32.04</td>\n",
       "      <td>77.81</td>\n",
       "      <td>5.59</td>\n",
       "    </tr>\n",
       "    <tr>\n",
       "      <th>405</th>\n",
       "      <td>405</td>\n",
       "      <td>yulara</td>\n",
       "      <td>0</td>\n",
       "      <td>AU</td>\n",
       "      <td>1584643100</td>\n",
       "      <td>27</td>\n",
       "      <td>-25.24</td>\n",
       "      <td>130.99</td>\n",
       "      <td>77.00</td>\n",
       "      <td>6.93</td>\n",
       "    </tr>\n",
       "    <tr>\n",
       "      <th>474</th>\n",
       "      <td>474</td>\n",
       "      <td>marawi</td>\n",
       "      <td>0</td>\n",
       "      <td>PH</td>\n",
       "      <td>1584643116</td>\n",
       "      <td>85</td>\n",
       "      <td>8.00</td>\n",
       "      <td>124.29</td>\n",
       "      <td>78.01</td>\n",
       "      <td>1.01</td>\n",
       "    </tr>\n",
       "  </tbody>\n",
       "</table>\n",
       "</div>"
      ],
      "text/plain": [
       "     Unnamed: 0          City  Cloudiness Country        Date  Humidity  \\\n",
       "282         282         adrar           0      MR  1584643071        15   \n",
       "291         291     khudaganj           0      IN  1584643073        41   \n",
       "399         399  richards bay           0      ZA  1584643098        75   \n",
       "405         405        yulara           0      AU  1584643100        27   \n",
       "474         474        marawi           0      PH  1584643116        85   \n",
       "\n",
       "       Lat    Long  Max Temp  Wind Speed  \n",
       "282  20.50  -10.07     79.43        9.31  \n",
       "291  28.15   79.72     70.25        5.23  \n",
       "399 -28.78   32.04     77.81        5.59  \n",
       "405 -25.24  130.99     77.00        6.93  \n",
       "474   8.00  124.29     78.01        1.01  "
      ]
     },
     "execution_count": 155,
     "metadata": {},
     "output_type": "execute_result"
    }
   ],
   "source": [
    "#narrow down data to: \n",
    "#max temperature <= 80 degrees but > 70\n",
    "#wind speeds <10\n",
    "#zero cloudiness\n",
    "#drop na's\n",
    "ideal_temps = (output_file[\"Max Temp\"]<= 80) &( output_file[\"Max Temp\"]> 70)\n",
    "ideal_wind_spd = (output_file[\"Wind Speed\"] < 10)\n",
    "ideal_cloud_cov = (output_file[\"Cloudiness\"] < 1)\n",
    "ideal_weather = ideal_temps & ideal_wind_spd & ideal_cloud_cov\n",
    "ideal_weather_df = output_file[ideal_weather]\n",
    "ideal_weather_df"
   ]
  },
  {
   "cell_type": "markdown",
   "metadata": {},
   "source": [
    "### Hotel Map\n",
    "* Store into variable named `hotel_df`.\n",
    "* Add a \"Hotel Name\" column to the DataFrame.\n",
    "* Set parameters to search for hotels with 5000 meters.\n",
    "* Hit the Google Places API for each city's coordinates.\n",
    "* Store the first Hotel result into the DataFrame.\n",
    "*Plot markers on top of the heatmap."
   ]
  },
  {
   "cell_type": "code",
   "execution_count": 156,
   "metadata": {},
   "outputs": [
    {
     "name": "stdout",
     "output_type": "stream",
     "text": [
      "Retrieving Results for Index 282: adrar.\n",
      "Missing field/result... skipping.\n",
      "------------\n",
      "Retrieving Results for Index 291: khudaganj.\n",
      "Closest hotel is Virat Bhawan.\n"
     ]
    },
    {
     "name": "stderr",
     "output_type": "stream",
     "text": [
      "/anaconda3/lib/python3.7/site-packages/pandas/core/indexing.py:362: SettingWithCopyWarning: \n",
      "A value is trying to be set on a copy of a slice from a DataFrame.\n",
      "Try using .loc[row_indexer,col_indexer] = value instead\n",
      "\n",
      "See the caveats in the documentation: http://pandas.pydata.org/pandas-docs/stable/indexing.html#indexing-view-versus-copy\n",
      "  self.obj[key] = _infer_fill_value(value)\n"
     ]
    },
    {
     "name": "stdout",
     "output_type": "stream",
     "text": [
      "------------\n",
      "Retrieving Results for Index 399: richards bay.\n",
      "Closest hotel is BON Hotel Waterfront Richards Bay.\n",
      "------------\n",
      "Retrieving Results for Index 405: yulara.\n",
      "Closest hotel is Desert Gardens Hotel - Ayers Rock Resort.\n",
      "------------\n",
      "Retrieving Results for Index 474: marawi.\n",
      "Closest hotel is Derogongan Residence.\n",
      "------------\n"
     ]
    }
   ],
   "source": [
    "hotel_df=ideal_weather_df\n",
    "hotel_df\n",
    "\n",
    "#create params dictionary\n",
    "params ={\n",
    "    \"radius\": 5000,\n",
    "    \"types\": \"lodging\",\n",
    "    \"key\": g_key\n",
    "}\n",
    "\n",
    "for index, row in hotel_df.iterrows():\n",
    "    #get lats and longs\n",
    "    lat=row[\"Lat\"]\n",
    "    long=row[\"Long\"]\n",
    "    params[\"location\"]=f\"{lat},{long}\"\n",
    "    \n",
    "    base_url = \"https://maps.googleapis.com/maps/api/place/nearbysearch/json\"\n",
    "    #assemble url and make API request\n",
    "    print(f\"Retrieving Results for Index {index}: {row['City']}.\")\n",
    "    response = requests.get(base_url, params=params).json()\n",
    "    # print(json.dumps(response, indent=4, sort_keys=True))\n",
    "    \n",
    "    # extract results\n",
    "    results = response['results']\n",
    "    \n",
    "    try:\n",
    "        print(f\"Closest hotel is {results[0]['name']}.\")\n",
    "        hotel_df.loc[index, 'Hotel Name'] = results[0]['name']\n",
    "        \n",
    "    except (KeyError, IndexError):\n",
    "        print(\"Missing field/result... skipping.\")\n",
    "        \n",
    "    print(\"------------\")\n",
    "    "
   ]
  },
  {
   "cell_type": "code",
   "execution_count": 157,
   "metadata": {},
   "outputs": [
    {
     "data": {
      "text/html": [
       "<div>\n",
       "<style scoped>\n",
       "    .dataframe tbody tr th:only-of-type {\n",
       "        vertical-align: middle;\n",
       "    }\n",
       "\n",
       "    .dataframe tbody tr th {\n",
       "        vertical-align: top;\n",
       "    }\n",
       "\n",
       "    .dataframe thead th {\n",
       "        text-align: right;\n",
       "    }\n",
       "</style>\n",
       "<table border=\"1\" class=\"dataframe\">\n",
       "  <thead>\n",
       "    <tr style=\"text-align: right;\">\n",
       "      <th></th>\n",
       "      <th>Unnamed: 0</th>\n",
       "      <th>City</th>\n",
       "      <th>Cloudiness</th>\n",
       "      <th>Country</th>\n",
       "      <th>Date</th>\n",
       "      <th>Humidity</th>\n",
       "      <th>Lat</th>\n",
       "      <th>Long</th>\n",
       "      <th>Max Temp</th>\n",
       "      <th>Wind Speed</th>\n",
       "      <th>Hotel Name</th>\n",
       "    </tr>\n",
       "  </thead>\n",
       "  <tbody>\n",
       "    <tr>\n",
       "      <th>282</th>\n",
       "      <td>282</td>\n",
       "      <td>adrar</td>\n",
       "      <td>0</td>\n",
       "      <td>MR</td>\n",
       "      <td>1584643071</td>\n",
       "      <td>15</td>\n",
       "      <td>20.50</td>\n",
       "      <td>-10.07</td>\n",
       "      <td>79.43</td>\n",
       "      <td>9.31</td>\n",
       "      <td>NaN</td>\n",
       "    </tr>\n",
       "    <tr>\n",
       "      <th>291</th>\n",
       "      <td>291</td>\n",
       "      <td>khudaganj</td>\n",
       "      <td>0</td>\n",
       "      <td>IN</td>\n",
       "      <td>1584643073</td>\n",
       "      <td>41</td>\n",
       "      <td>28.15</td>\n",
       "      <td>79.72</td>\n",
       "      <td>70.25</td>\n",
       "      <td>5.23</td>\n",
       "      <td>Virat Bhawan</td>\n",
       "    </tr>\n",
       "    <tr>\n",
       "      <th>399</th>\n",
       "      <td>399</td>\n",
       "      <td>richards bay</td>\n",
       "      <td>0</td>\n",
       "      <td>ZA</td>\n",
       "      <td>1584643098</td>\n",
       "      <td>75</td>\n",
       "      <td>-28.78</td>\n",
       "      <td>32.04</td>\n",
       "      <td>77.81</td>\n",
       "      <td>5.59</td>\n",
       "      <td>BON Hotel Waterfront Richards Bay</td>\n",
       "    </tr>\n",
       "    <tr>\n",
       "      <th>405</th>\n",
       "      <td>405</td>\n",
       "      <td>yulara</td>\n",
       "      <td>0</td>\n",
       "      <td>AU</td>\n",
       "      <td>1584643100</td>\n",
       "      <td>27</td>\n",
       "      <td>-25.24</td>\n",
       "      <td>130.99</td>\n",
       "      <td>77.00</td>\n",
       "      <td>6.93</td>\n",
       "      <td>Desert Gardens Hotel - Ayers Rock Resort</td>\n",
       "    </tr>\n",
       "    <tr>\n",
       "      <th>474</th>\n",
       "      <td>474</td>\n",
       "      <td>marawi</td>\n",
       "      <td>0</td>\n",
       "      <td>PH</td>\n",
       "      <td>1584643116</td>\n",
       "      <td>85</td>\n",
       "      <td>8.00</td>\n",
       "      <td>124.29</td>\n",
       "      <td>78.01</td>\n",
       "      <td>1.01</td>\n",
       "      <td>Derogongan Residence</td>\n",
       "    </tr>\n",
       "  </tbody>\n",
       "</table>\n",
       "</div>"
      ],
      "text/plain": [
       "     Unnamed: 0          City  Cloudiness Country        Date  Humidity  \\\n",
       "282         282         adrar           0      MR  1584643071        15   \n",
       "291         291     khudaganj           0      IN  1584643073        41   \n",
       "399         399  richards bay           0      ZA  1584643098        75   \n",
       "405         405        yulara           0      AU  1584643100        27   \n",
       "474         474        marawi           0      PH  1584643116        85   \n",
       "\n",
       "       Lat    Long  Max Temp  Wind Speed  \\\n",
       "282  20.50  -10.07     79.43        9.31   \n",
       "291  28.15   79.72     70.25        5.23   \n",
       "399 -28.78   32.04     77.81        5.59   \n",
       "405 -25.24  130.99     77.00        6.93   \n",
       "474   8.00  124.29     78.01        1.01   \n",
       "\n",
       "                                   Hotel Name  \n",
       "282                                       NaN  \n",
       "291                              Virat Bhawan  \n",
       "399         BON Hotel Waterfront Richards Bay  \n",
       "405  Desert Gardens Hotel - Ayers Rock Resort  \n",
       "474                      Derogongan Residence  "
      ]
     },
     "execution_count": 157,
     "metadata": {},
     "output_type": "execute_result"
    }
   ],
   "source": [
    "hotel_df"
   ]
  },
  {
   "cell_type": "code",
   "execution_count": 158,
   "metadata": {},
   "outputs": [],
   "source": [
    "# NOTE: Do not change any of the code in this cell\n",
    "locations=hotel_df[[\"Lat\", \"Long\"]]\n",
    "# Using the template add the hotel marks to the heatmap\n",
    "info_box_template = \"\"\"\n",
    "<dl>\n",
    "<dt>Name</dt><dd>{Hotel Name}</dd>\n",
    "<dt>City</dt><dd>{City}</dd>\n",
    "<dt>Country</dt><dd>{Country}</dd>\n",
    "</dl>\n",
    "\"\"\"\n",
    "# Store the DataFrame Row\n",
    "# NOTE: be sure to update with your DataFrame name\n",
    "hotel_info = [info_box_template.format(**row) for index, row in ideal_weather_df.iterrows()]\n",
    "locations = hotel_df[[\"Lat\", \"Long\"]]"
   ]
  },
  {
   "cell_type": "code",
   "execution_count": 159,
   "metadata": {},
   "outputs": [
    {
     "data": {
      "application/vnd.jupyter.widget-view+json": {
       "model_id": "8545e4bfdfa645febf4c50d2d3b72571",
       "version_major": 2,
       "version_minor": 0
      },
      "text/plain": [
       "Figure(layout=FigureLayout(height='420px'))"
      ]
     },
     "metadata": {},
     "output_type": "display_data"
    }
   ],
   "source": [
    "# Add marker layer ontop of heat map\n",
    "\n",
    "markers = gmaps.marker_layer(locations)\n",
    "hotel_layer = gmaps.symbol_layer(locations, info_box_content=hotel_info)\n",
    "\n",
    "# Display Map\n",
    "figure.add_layer(markers)\n",
    "figure.add_layer(hotel_layer)\n",
    "figure"
   ]
  },
  {
   "cell_type": "code",
   "execution_count": null,
   "metadata": {},
   "outputs": [],
   "source": []
  }
 ],
 "metadata": {
  "kernelspec": {
   "display_name": "Python 3",
   "language": "python",
   "name": "python3"
  },
  "language_info": {
   "codemirror_mode": {
    "name": "ipython",
    "version": 3
   },
   "file_extension": ".py",
   "mimetype": "text/x-python",
   "name": "python",
   "nbconvert_exporter": "python",
   "pygments_lexer": "ipython3",
   "version": "3.7.1"
  },
  "latex_envs": {
   "LaTeX_envs_menu_present": true,
   "autoclose": false,
   "autocomplete": true,
   "bibliofile": "biblio.bib",
   "cite_by": "apalike",
   "current_citInitial": 1,
   "eqLabelWithNumbers": true,
   "eqNumInitial": 1,
   "hotkeys": {
    "equation": "Ctrl-E",
    "itemize": "Ctrl-I"
   },
   "labels_anchors": false,
   "latex_user_defs": false,
   "report_style_numbering": false,
   "user_envs_cfg": false
  }
 },
 "nbformat": 4,
 "nbformat_minor": 2
}
