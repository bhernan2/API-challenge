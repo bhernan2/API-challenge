{
 "cells": [
  {
   "cell_type": "markdown",
   "metadata": {},
   "source": [
    "# WeatherPy\n",
    "----\n",
    "\n",
    "#### Note\n",
    "* Instructions have been included for each segment. You do not have to follow them exactly, but they are included to help you think through the steps."
   ]
  },
  {
   "cell_type": "code",
   "execution_count": 12,
   "metadata": {
    "scrolled": true
   },
   "outputs": [],
   "source": [
    "# Dependencies and Setup\n",
    "import matplotlib.pyplot as plt\n",
    "import pandas as pd\n",
    "import numpy as np\n",
    "import requests\n",
    "import time\n",
    "from scipy.stats import linregress\n",
    "import json \n",
    "\n",
    "\n",
    "# Import API key\n",
    "from api_keys import weather_api_key\n",
    "\n",
    "# Incorporated citipy to determine city based on latitude and longitude\n",
    "from citipy import citipy\n",
    "\n",
    "# Output File (CSV)\n",
    "output_data_file = pd.read_csv(\"../output_data/cities.csv\")\n",
    "\n",
    "# Range of latitudes and longitudes\n",
    "lat_range = (-90, 90)\n",
    "lng_range = (-180, 180)"
   ]
  },
  {
   "cell_type": "code",
   "execution_count": 13,
   "metadata": {},
   "outputs": [
    {
     "data": {
      "text/html": [
       "<div>\n",
       "<style scoped>\n",
       "    .dataframe tbody tr th:only-of-type {\n",
       "        vertical-align: middle;\n",
       "    }\n",
       "\n",
       "    .dataframe tbody tr th {\n",
       "        vertical-align: top;\n",
       "    }\n",
       "\n",
       "    .dataframe thead th {\n",
       "        text-align: right;\n",
       "    }\n",
       "</style>\n",
       "<table border=\"1\" class=\"dataframe\">\n",
       "  <thead>\n",
       "    <tr style=\"text-align: right;\">\n",
       "      <th></th>\n",
       "      <th>City_ID</th>\n",
       "      <th>City</th>\n",
       "      <th>Cloudiness</th>\n",
       "      <th>Country</th>\n",
       "      <th>Date</th>\n",
       "      <th>Humidity</th>\n",
       "      <th>Lat</th>\n",
       "      <th>Lng</th>\n",
       "      <th>Max Temp</th>\n",
       "      <th>Wind Speed</th>\n",
       "    </tr>\n",
       "  </thead>\n",
       "  <tbody>\n",
       "    <tr>\n",
       "      <th>0</th>\n",
       "      <td>0</td>\n",
       "      <td>ostrovnoy</td>\n",
       "      <td>2</td>\n",
       "      <td>RU</td>\n",
       "      <td>1558378754</td>\n",
       "      <td>72</td>\n",
       "      <td>68.05</td>\n",
       "      <td>39.51</td>\n",
       "      <td>37.50</td>\n",
       "      <td>7.16</td>\n",
       "    </tr>\n",
       "    <tr>\n",
       "      <th>1</th>\n",
       "      <td>1</td>\n",
       "      <td>mahebourg</td>\n",
       "      <td>75</td>\n",
       "      <td>MU</td>\n",
       "      <td>1558378503</td>\n",
       "      <td>74</td>\n",
       "      <td>-20.41</td>\n",
       "      <td>57.70</td>\n",
       "      <td>78.80</td>\n",
       "      <td>11.41</td>\n",
       "    </tr>\n",
       "    <tr>\n",
       "      <th>2</th>\n",
       "      <td>2</td>\n",
       "      <td>qaanaaq</td>\n",
       "      <td>25</td>\n",
       "      <td>GL</td>\n",
       "      <td>1558378755</td>\n",
       "      <td>73</td>\n",
       "      <td>77.48</td>\n",
       "      <td>-69.36</td>\n",
       "      <td>22.20</td>\n",
       "      <td>2.37</td>\n",
       "    </tr>\n",
       "    <tr>\n",
       "      <th>3</th>\n",
       "      <td>3</td>\n",
       "      <td>zhuhai</td>\n",
       "      <td>0</td>\n",
       "      <td>CN</td>\n",
       "      <td>1558378755</td>\n",
       "      <td>39</td>\n",
       "      <td>40.71</td>\n",
       "      <td>112.04</td>\n",
       "      <td>44.60</td>\n",
       "      <td>4.47</td>\n",
       "    </tr>\n",
       "    <tr>\n",
       "      <th>4</th>\n",
       "      <td>4</td>\n",
       "      <td>cape town</td>\n",
       "      <td>20</td>\n",
       "      <td>ZA</td>\n",
       "      <td>1558378755</td>\n",
       "      <td>76</td>\n",
       "      <td>-33.93</td>\n",
       "      <td>18.42</td>\n",
       "      <td>55.99</td>\n",
       "      <td>8.05</td>\n",
       "    </tr>\n",
       "  </tbody>\n",
       "</table>\n",
       "</div>"
      ],
      "text/plain": [
       "   City_ID       City  Cloudiness Country        Date  Humidity    Lat  \\\n",
       "0        0  ostrovnoy           2      RU  1558378754        72  68.05   \n",
       "1        1  mahebourg          75      MU  1558378503        74 -20.41   \n",
       "2        2    qaanaaq          25      GL  1558378755        73  77.48   \n",
       "3        3     zhuhai           0      CN  1558378755        39  40.71   \n",
       "4        4  cape town          20      ZA  1558378755        76 -33.93   \n",
       "\n",
       "      Lng  Max Temp  Wind Speed  \n",
       "0   39.51     37.50        7.16  \n",
       "1   57.70     78.80       11.41  \n",
       "2  -69.36     22.20        2.37  \n",
       "3  112.04     44.60        4.47  \n",
       "4   18.42     55.99        8.05  "
      ]
     },
     "execution_count": 13,
     "metadata": {},
     "output_type": "execute_result"
    }
   ],
   "source": [
    "output_data_file.head()"
   ]
  },
  {
   "cell_type": "markdown",
   "metadata": {},
   "source": [
    "## Generate Cities List"
   ]
  },
  {
   "cell_type": "code",
   "execution_count": 14,
   "metadata": {
    "scrolled": true
   },
   "outputs": [
    {
     "data": {
      "text/plain": [
       "626"
      ]
     },
     "execution_count": 14,
     "metadata": {},
     "output_type": "execute_result"
    }
   ],
   "source": [
    "# List for holding lat_lngs and cities\n",
    "lat_lngs = []\n",
    "cities = []\n",
    "\n",
    "# Create a set of random lat and lng combinations\n",
    "lats = np.random.uniform(low=-90.000, high=90.000, size=1500)\n",
    "lngs = np.random.uniform(low=-180.000, high=180.000, size=1500)\n",
    "lat_lngs = zip(lats, lngs)\n",
    "\n",
    "# Identify nearest city for each lat, lng combination\n",
    "for lat_lng in lat_lngs:\n",
    "    city = citipy.nearest_city(lat_lng[0], lat_lng[1]).city_name\n",
    "    \n",
    "    # If the city is unique, then add it to a our cities list\n",
    "    if city not in cities:\n",
    "        cities.append(city)\n",
    "\n",
    "# Print the city count to confirm sufficient count\n",
    "len(cities)\n"
   ]
  },
  {
   "cell_type": "markdown",
   "metadata": {},
   "source": [
    "### Perform API Calls\n",
    "* Perform a weather check on each city using a series of successive API calls.\n",
    "* Include a print log of each city as it'sbeing processed (with the city number and city name).\n"
   ]
  },
  {
   "cell_type": "code",
   "execution_count": 9,
   "metadata": {},
   "outputs": [
    {
     "data": {
      "text/plain": [
       "['airai',\n",
       " 'mwinilunga',\n",
       " 'klaksvik',\n",
       " 'takoradi',\n",
       " 'albany',\n",
       " 'yicheng',\n",
       " 'oksfjord',\n",
       " 'punta arenas']"
      ]
     },
     "execution_count": 9,
     "metadata": {},
     "output_type": "execute_result"
    }
   ],
   "source": [
    "cities[:8]"
   ]
  },
  {
   "cell_type": "code",
   "execution_count": null,
   "metadata": {},
   "outputs": [
    {
     "name": "stdout",
     "output_type": "stream",
     "text": [
      "Beginning Data Retrieval\n",
      "-----------------------------\n",
      "Processing Record1|saint anthony\n",
      "Processing Record2|luderitz\n",
      "Processing Record3|kodiak\n",
      "Processing Record4|avarua\n",
      "Processing Record5|bengkulu\n",
      "Processing Record6|nisia floresta\n",
      "Processing Record7|hermanus\n",
      "Processing Record8|lasa\n",
      "Processing Record9|jamestown\n",
      "Processing Record10|turayf\n",
      "Processing Record11|yellowknife\n",
      "Processing Record12|kapaa\n",
      "Processing Record13|independence\n",
      "Processing Record14|albany\n",
      "Processing Record15|okitipupa\n",
      "Processing Record16|denpasar\n",
      "Processing Record17|nikolskoye\n",
      "Processing Record18|atuona\n",
      "Processing Record19|busselton\n",
      "Processing Record20|opuwo\n",
      "Processing Record21|bredasdorp\n",
      "Processing Record22|yar-sale\n",
      "Processing Record23|tilichiki\n",
      "Processing Record24|hinton\n",
      "Processing Record25|mataura\n",
      "Processing Record26|barrow\n",
      "Processing Record27|naze\n",
      "Processing Record28|rosario\n",
      "Processing Record29|rikitea\n",
      "Processing Record30|orapa\n",
      "Processing Record31|mana\n",
      "Processing Record32|saint-philippe\n",
      "Processing Record33|puerto ayora\n",
      "Processing Record34|esperance\n",
      "Processing Record35|filingue\n",
      "City not found. Skipping...\n",
      "Processing Record36|vavoua\n",
      "Processing Record37|ushuaia\n",
      "City not found. Skipping...\n",
      "Processing Record38|kyabram\n",
      "City not found. Skipping...\n",
      "Processing Record39|aykhal\n",
      "Processing Record40|rockport\n",
      "Processing Record41|qaanaaq\n",
      "Processing Record42|lorengau\n",
      "Processing Record43|punta arenas\n",
      "Processing Record44|dikson\n",
      "Processing Record45|nouadhibou\n",
      "Processing Record46|mahebourg\n",
      "Processing Record47|tuatapere\n",
      "Processing Record48|el reno\n",
      "Processing Record49|mezen\n",
      "City not found. Skipping...\n",
      "Processing Record50|hilo\n",
      "City not found. Skipping...\n",
      "Processing Record51|georgetown\n",
      "Processing Record52|tasiilaq\n",
      "Processing Record53|hami\n",
      "Processing Record54|alofi\n",
      "Processing Record55|korla\n",
      "Processing Record56|jalu\n",
      "Processing Record57|faanui\n",
      "Processing Record58|sola\n",
      "Processing Record59|luza\n",
      "Processing Record60|ribeira grande\n",
      "Processing Record61|anaconda\n",
      "Processing Record62|madimba\n",
      "Processing Record63|nalut\n",
      "Processing Record64|sassandra\n",
      "Processing Record65|ovre ardal\n",
      "Processing Record66|cape town\n",
      "Processing Record67|cabo san lucas\n",
      "Processing Record68|sinnamary\n",
      "Processing Record69|kavieng\n",
      "Processing Record70|chokurdakh\n",
      "Processing Record71|vila franca do campo\n",
      "Processing Record72|husavik\n",
      "Processing Record73|verkhnyaya inta\n",
      "Processing Record74|hobart\n",
      "Processing Record75|lucapa\n",
      "Processing Record76|arroyo\n",
      "Processing Record77|odweyne\n",
      "Processing Record78|faya\n",
      "City not found. Skipping...\n",
      "Processing Record79|floro\n",
      "City not found. Skipping...\n",
      "Processing Record80|upernavik\n",
      "Processing Record81|coquimbo\n",
      "Processing Record82|new norfolk\n",
      "Processing Record83|tallahassee\n",
      "Processing Record84|fortuna\n",
      "Processing Record85|arraial do cabo\n",
      "Processing Record86|chimoio\n",
      "Processing Record87|mvangue\n",
      "Processing Record88|iqaluit\n",
      "Processing Record89|almonte\n",
      "Processing Record90|goroka\n",
      "City not found. Skipping...\n",
      "Processing Record91|grindavik\n",
      "Processing Record92|forio\n",
      "Processing Record93|bahia blanca\n",
      "Processing Record94|mar del plata\n",
      "Processing Record95|saskylakh\n",
      "Processing Record96|arenapolis\n",
      "Processing Record97|flinders\n",
      "City not found. Skipping...\n",
      "Processing Record98|vila velha\n",
      "Processing Record99|bathsheba\n",
      "Processing Record100|thinadhoo\n",
      "Processing Record101|zyryanka\n",
      "Processing Record102|bethel\n",
      "Processing Record103|bonavista\n",
      "Processing Record104|kahului\n",
      "Processing Record105|trairi\n",
      "Processing Record106|codrington\n",
      "City not found. Skipping...\n",
      "Processing Record107|arbroath\n",
      "Processing Record108|leningradskiy\n",
      "Processing Record109|jhusi\n",
      "Processing Record110|kavaratti\n",
      "Processing Record111|marfino\n",
      "Processing Record112|bourail\n",
      "Processing Record113|camacupa\n",
      "Processing Record114|san patricio\n",
      "Processing Record115|carnarvon\n",
      "Processing Record116|lagoa\n",
      "Processing Record117|bambous virieux\n",
      "Processing Record118|hithadhoo\n",
      "Processing Record119|nova olimpia\n",
      "Processing Record120|gushikawa\n",
      "Processing Record121|ponta do sol\n",
      "Processing Record122|butaritari\n",
      "Processing Record123|ostrovnoy\n",
      "Processing Record124|morondava\n",
      "Processing Record125|vaini\n",
      "Processing Record126|gaoua\n",
      "Processing Record127|surt\n",
      "Processing Record128|brigantine\n",
      "Processing Record129|port alfred\n",
      "Processing Record130|provideniya\n",
      "Processing Record131|zhigansk\n",
      "Processing Record132|torbay\n",
      "Processing Record133|deputatskiy\n",
      "Processing Record134|lokbatan\n",
      "Processing Record135|asosa\n",
      "Processing Record136|ambovombe\n",
      "Processing Record137|katsuura\n",
      "Processing Record138|kapit\n",
      "Processing Record139|qaqortoq\n",
      "Processing Record140|te anau\n",
      "Processing Record141|bubaque\n",
      "Processing Record142|chuy\n",
      "Processing Record143|tucuma\n",
      "Processing Record144|severo-kurilsk\n",
      "Processing Record145|erzin\n",
      "Processing Record146|alta floresta\n",
      "Processing Record147|kumluca\n",
      "Processing Record148|sandwick\n",
      "Processing Record149|riberalta\n",
      "Processing Record150|paredon\n",
      "Processing Record151|souillac\n",
      "Processing Record152|mecca\n",
      "Processing Record153|utete\n",
      "Processing Record154|svecha\n",
      "Processing Record155|tiksi\n",
      "Processing Record156|saint george\n",
      "Processing Record157|khatanga\n",
      "Processing Record158|itabirito\n",
      "Processing Record159|norman wells\n",
      "Processing Record160|tuktoyaktuk\n",
      "Processing Record161|huarmey\n",
      "Processing Record162|rabak\n",
      "Processing Record163|akropong\n",
      "Processing Record164|aracruz\n",
      "Processing Record165|ulladulla\n",
      "Processing Record166|pangnirtung\n",
      "Processing Record167|tailai\n",
      "Processing Record168|oranjemund\n",
      "Processing Record169|coihaique\n",
      "Processing Record170|aquiraz\n"
     ]
    }
   ],
   "source": [
    "#create empty lists\n",
    "city_name = []\n",
    "cloudiness = []\n",
    "country = []\n",
    "date = []\n",
    "humidity = []\n",
    "lat = []\n",
    "lng = []\n",
    "max_temp = []\n",
    "wind_speed = []\n",
    "\n",
    "#weather api \n",
    "url = 'http://api.openweathermap.org/data/2.5/weather'\n",
    "\n",
    "#print statement\n",
    "print('Beginning Data Retrieval')\n",
    "print('-----------------------------')\n",
    "\n",
    "record = 0\n",
    "set_count = 1\n",
    "for city in cities:\n",
    "    #create parameters for api call \n",
    "    params={\n",
    "        \"q\":city,\n",
    "        \"units\":\"imperial\",\n",
    "        \"appid\": weather_api_key\n",
    "    }\n",
    "    try:\n",
    "        response = requests.get(url, params)\n",
    "        #see if API call successful\n",
    "        #print(response.url)\n",
    "        results = response.json()\n",
    "        #reformat to see data better\n",
    "        #print(json.dumps(results, indent=4, sort_keys=True))\n",
    "        cloudiness.append(results[\"clouds\"][\"all\"])\n",
    "        date.append(results[\"dt\"])\n",
    "        humidity.append(results[\"main\"][\"humidity\"])\n",
    "        lat.append(results[\"coord\"][\"lat\"])\n",
    "        lng.append(results[\"coord\"][\"lon\"])\n",
    "        max_temp.append(results[\"main\"][\"temp_max\"])\n",
    "        wind_speed.append(results[\"wind\"][\"speed\"])\n",
    "        #icrease counter by one \n",
    "        record = record+1\n",
    "        print(f\"Processing Record{record}|{city}\")\n",
    "    \n",
    "    except Exception:\n",
    "        print(\"City not found. Skipping...\")\n",
    "\n",
    "print(\"------------------------------\")\n",
    "print(\"Data Retrieval Complete\")\n",
    "print(\"------------------------------\")"
   ]
  },
  {
   "cell_type": "code",
   "execution_count": null,
   "metadata": {},
   "outputs": [],
   "source": [
    "\n"
   ]
  },
  {
   "cell_type": "code",
   "execution_count": null,
   "metadata": {},
   "outputs": [],
   "source": []
  },
  {
   "cell_type": "code",
   "execution_count": null,
   "metadata": {},
   "outputs": [],
   "source": []
  },
  {
   "cell_type": "markdown",
   "metadata": {},
   "source": [
    "### Convert Raw Data to DataFrame\n",
    "* Export the city data into a .csv.\n",
    "* Display the DataFrame"
   ]
  },
  {
   "cell_type": "code",
   "execution_count": null,
   "metadata": {},
   "outputs": [],
   "source": []
  },
  {
   "cell_type": "code",
   "execution_count": null,
   "metadata": {},
   "outputs": [],
   "source": []
  },
  {
   "cell_type": "markdown",
   "metadata": {},
   "source": [
    "### Plotting the Data\n",
    "* Use proper labeling of the plots using plot titles (including date of analysis) and axes labels.\n",
    "* Save the plotted figures as .pngs."
   ]
  },
  {
   "cell_type": "markdown",
   "metadata": {},
   "source": [
    "#### Latitude vs. Temperature Plot"
   ]
  },
  {
   "cell_type": "code",
   "execution_count": null,
   "metadata": {
    "scrolled": true
   },
   "outputs": [],
   "source": []
  },
  {
   "cell_type": "markdown",
   "metadata": {},
   "source": [
    "#### Latitude vs. Humidity Plot"
   ]
  },
  {
   "cell_type": "code",
   "execution_count": null,
   "metadata": {},
   "outputs": [],
   "source": []
  },
  {
   "cell_type": "markdown",
   "metadata": {},
   "source": [
    "#### Latitude vs. Cloudiness Plot"
   ]
  },
  {
   "cell_type": "code",
   "execution_count": null,
   "metadata": {},
   "outputs": [],
   "source": []
  },
  {
   "cell_type": "markdown",
   "metadata": {},
   "source": [
    "#### Latitude vs. Wind Speed Plot"
   ]
  },
  {
   "cell_type": "code",
   "execution_count": null,
   "metadata": {},
   "outputs": [],
   "source": []
  },
  {
   "cell_type": "markdown",
   "metadata": {},
   "source": [
    "## Linear Regression"
   ]
  },
  {
   "cell_type": "code",
   "execution_count": 6,
   "metadata": {},
   "outputs": [],
   "source": [
    "# OPTIONAL: Create a function to create Linear Regression plots\n"
   ]
  },
  {
   "cell_type": "code",
   "execution_count": 7,
   "metadata": {},
   "outputs": [],
   "source": [
    "# Create Northern and Southern Hemisphere DataFrames\n"
   ]
  },
  {
   "cell_type": "markdown",
   "metadata": {},
   "source": [
    "####  Northern Hemisphere - Max Temp vs. Latitude Linear Regression"
   ]
  },
  {
   "cell_type": "code",
   "execution_count": null,
   "metadata": {},
   "outputs": [],
   "source": []
  },
  {
   "cell_type": "markdown",
   "metadata": {},
   "source": [
    "####  Southern Hemisphere - Max Temp vs. Latitude Linear Regression"
   ]
  },
  {
   "cell_type": "code",
   "execution_count": null,
   "metadata": {},
   "outputs": [],
   "source": []
  },
  {
   "cell_type": "markdown",
   "metadata": {},
   "source": [
    "####  Northern Hemisphere - Humidity (%) vs. Latitude Linear Regression"
   ]
  },
  {
   "cell_type": "code",
   "execution_count": null,
   "metadata": {},
   "outputs": [],
   "source": []
  },
  {
   "cell_type": "markdown",
   "metadata": {},
   "source": [
    "####  Southern Hemisphere - Humidity (%) vs. Latitude Linear Regression"
   ]
  },
  {
   "cell_type": "code",
   "execution_count": null,
   "metadata": {},
   "outputs": [],
   "source": []
  },
  {
   "cell_type": "markdown",
   "metadata": {},
   "source": [
    "####  Northern Hemisphere - Cloudiness (%) vs. Latitude Linear Regression"
   ]
  },
  {
   "cell_type": "code",
   "execution_count": null,
   "metadata": {},
   "outputs": [],
   "source": []
  },
  {
   "cell_type": "markdown",
   "metadata": {},
   "source": [
    "####  Southern Hemisphere - Cloudiness (%) vs. Latitude Linear Regression"
   ]
  },
  {
   "cell_type": "code",
   "execution_count": null,
   "metadata": {},
   "outputs": [],
   "source": []
  },
  {
   "cell_type": "markdown",
   "metadata": {},
   "source": [
    "####  Northern Hemisphere - Wind Speed (mph) vs. Latitude Linear Regression"
   ]
  },
  {
   "cell_type": "code",
   "execution_count": null,
   "metadata": {},
   "outputs": [],
   "source": []
  },
  {
   "cell_type": "markdown",
   "metadata": {},
   "source": [
    "####  Southern Hemisphere - Wind Speed (mph) vs. Latitude Linear Regression"
   ]
  },
  {
   "cell_type": "code",
   "execution_count": null,
   "metadata": {},
   "outputs": [],
   "source": []
  },
  {
   "cell_type": "code",
   "execution_count": null,
   "metadata": {},
   "outputs": [],
   "source": []
  }
 ],
 "metadata": {
  "anaconda-cloud": {},
  "kernel_info": {
   "name": "python3"
  },
  "kernelspec": {
   "display_name": "Python 3",
   "language": "python",
   "name": "python3"
  },
  "language_info": {
   "codemirror_mode": {
    "name": "ipython",
    "version": 3
   },
   "file_extension": ".py",
   "mimetype": "text/x-python",
   "name": "python",
   "nbconvert_exporter": "python",
   "pygments_lexer": "ipython3",
   "version": "3.7.1"
  },
  "latex_envs": {
   "LaTeX_envs_menu_present": true,
   "autoclose": false,
   "autocomplete": true,
   "bibliofile": "biblio.bib",
   "cite_by": "apalike",
   "current_citInitial": 1,
   "eqLabelWithNumbers": true,
   "eqNumInitial": 1,
   "hotkeys": {
    "equation": "Ctrl-E",
    "itemize": "Ctrl-I"
   },
   "labels_anchors": false,
   "latex_user_defs": false,
   "report_style_numbering": false,
   "user_envs_cfg": false
  },
  "nteract": {
   "version": "0.12.3"
  }
 },
 "nbformat": 4,
 "nbformat_minor": 2
}
