{
 "cells": [
  {
   "cell_type": "markdown",
   "metadata": {},
   "source": [
    "# WeatherPy\n",
    "----\n",
    "\n",
    "#### Note\n",
    "* Instructions have been included for each segment. You do not have to follow them exactly, but they are included to help you think through the steps."
   ]
  },
  {
   "cell_type": "code",
   "execution_count": 12,
   "metadata": {
    "scrolled": true
   },
   "outputs": [],
   "source": [
    "# Dependencies and Setup\n",
    "import matplotlib.pyplot as plt\n",
    "import pandas as pd\n",
    "import numpy as np\n",
    "import requests\n",
    "import time\n",
    "from scipy.stats import linregress\n",
    "import json \n",
    "\n",
    "\n",
    "# Import API key\n",
    "from api_keys import weather_api_key\n",
    "\n",
    "# Incorporated citipy to determine city based on latitude and longitude\n",
    "from citipy import citipy\n",
    "\n",
    "# Output File (CSV)\n",
    "output_data_file = pd.read_csv(\"../output_data/cities.csv\")\n",
    "\n",
    "# Range of latitudes and longitudes\n",
    "lat_range = (-90, 90)\n",
    "lng_range = (-180, 180)"
   ]
  },
  {
   "cell_type": "code",
   "execution_count": 13,
   "metadata": {},
   "outputs": [
    {
     "data": {
      "text/html": [
       "<div>\n",
       "<style scoped>\n",
       "    .dataframe tbody tr th:only-of-type {\n",
       "        vertical-align: middle;\n",
       "    }\n",
       "\n",
       "    .dataframe tbody tr th {\n",
       "        vertical-align: top;\n",
       "    }\n",
       "\n",
       "    .dataframe thead th {\n",
       "        text-align: right;\n",
       "    }\n",
       "</style>\n",
       "<table border=\"1\" class=\"dataframe\">\n",
       "  <thead>\n",
       "    <tr style=\"text-align: right;\">\n",
       "      <th></th>\n",
       "      <th>City_ID</th>\n",
       "      <th>City</th>\n",
       "      <th>Cloudiness</th>\n",
       "      <th>Country</th>\n",
       "      <th>Date</th>\n",
       "      <th>Humidity</th>\n",
       "      <th>Lat</th>\n",
       "      <th>Lng</th>\n",
       "      <th>Max Temp</th>\n",
       "      <th>Wind Speed</th>\n",
       "    </tr>\n",
       "  </thead>\n",
       "  <tbody>\n",
       "    <tr>\n",
       "      <th>0</th>\n",
       "      <td>0</td>\n",
       "      <td>ostrovnoy</td>\n",
       "      <td>2</td>\n",
       "      <td>RU</td>\n",
       "      <td>1558378754</td>\n",
       "      <td>72</td>\n",
       "      <td>68.05</td>\n",
       "      <td>39.51</td>\n",
       "      <td>37.50</td>\n",
       "      <td>7.16</td>\n",
       "    </tr>\n",
       "    <tr>\n",
       "      <th>1</th>\n",
       "      <td>1</td>\n",
       "      <td>mahebourg</td>\n",
       "      <td>75</td>\n",
       "      <td>MU</td>\n",
       "      <td>1558378503</td>\n",
       "      <td>74</td>\n",
       "      <td>-20.41</td>\n",
       "      <td>57.70</td>\n",
       "      <td>78.80</td>\n",
       "      <td>11.41</td>\n",
       "    </tr>\n",
       "    <tr>\n",
       "      <th>2</th>\n",
       "      <td>2</td>\n",
       "      <td>qaanaaq</td>\n",
       "      <td>25</td>\n",
       "      <td>GL</td>\n",
       "      <td>1558378755</td>\n",
       "      <td>73</td>\n",
       "      <td>77.48</td>\n",
       "      <td>-69.36</td>\n",
       "      <td>22.20</td>\n",
       "      <td>2.37</td>\n",
       "    </tr>\n",
       "    <tr>\n",
       "      <th>3</th>\n",
       "      <td>3</td>\n",
       "      <td>zhuhai</td>\n",
       "      <td>0</td>\n",
       "      <td>CN</td>\n",
       "      <td>1558378755</td>\n",
       "      <td>39</td>\n",
       "      <td>40.71</td>\n",
       "      <td>112.04</td>\n",
       "      <td>44.60</td>\n",
       "      <td>4.47</td>\n",
       "    </tr>\n",
       "    <tr>\n",
       "      <th>4</th>\n",
       "      <td>4</td>\n",
       "      <td>cape town</td>\n",
       "      <td>20</td>\n",
       "      <td>ZA</td>\n",
       "      <td>1558378755</td>\n",
       "      <td>76</td>\n",
       "      <td>-33.93</td>\n",
       "      <td>18.42</td>\n",
       "      <td>55.99</td>\n",
       "      <td>8.05</td>\n",
       "    </tr>\n",
       "  </tbody>\n",
       "</table>\n",
       "</div>"
      ],
      "text/plain": [
       "   City_ID       City  Cloudiness Country        Date  Humidity    Lat  \\\n",
       "0        0  ostrovnoy           2      RU  1558378754        72  68.05   \n",
       "1        1  mahebourg          75      MU  1558378503        74 -20.41   \n",
       "2        2    qaanaaq          25      GL  1558378755        73  77.48   \n",
       "3        3     zhuhai           0      CN  1558378755        39  40.71   \n",
       "4        4  cape town          20      ZA  1558378755        76 -33.93   \n",
       "\n",
       "      Lng  Max Temp  Wind Speed  \n",
       "0   39.51     37.50        7.16  \n",
       "1   57.70     78.80       11.41  \n",
       "2  -69.36     22.20        2.37  \n",
       "3  112.04     44.60        4.47  \n",
       "4   18.42     55.99        8.05  "
      ]
     },
     "execution_count": 13,
     "metadata": {},
     "output_type": "execute_result"
    }
   ],
   "source": [
    "output_data_file.head()"
   ]
  },
  {
   "cell_type": "markdown",
   "metadata": {},
   "source": [
    "## Generate Cities List"
   ]
  },
  {
   "cell_type": "code",
   "execution_count": 14,
   "metadata": {
    "scrolled": true
   },
   "outputs": [
    {
     "data": {
      "text/plain": [
       "626"
      ]
     },
     "execution_count": 14,
     "metadata": {},
     "output_type": "execute_result"
    }
   ],
   "source": [
    "# List for holding lat_lngs and cities\n",
    "lat_lngs = []\n",
    "cities = []\n",
    "\n",
    "# Create a set of random lat and lng combinations\n",
    "lats = np.random.uniform(low=-90.000, high=90.000, size=1500)\n",
    "lngs = np.random.uniform(low=-180.000, high=180.000, size=1500)\n",
    "lat_lngs = zip(lats, lngs)\n",
    "\n",
    "# Identify nearest city for each lat, lng combination\n",
    "for lat_lng in lat_lngs:\n",
    "    city = citipy.nearest_city(lat_lng[0], lat_lng[1]).city_name\n",
    "    \n",
    "    # If the city is unique, then add it to a our cities list\n",
    "    if city not in cities:\n",
    "        cities.append(city)\n",
    "\n",
    "# Print the city count to confirm sufficient count\n",
    "len(cities)\n"
   ]
  },
  {
   "cell_type": "markdown",
   "metadata": {},
   "source": [
    "### Perform API Calls\n",
    "* Perform a weather check on each city using a series of successive API calls.\n",
    "* Include a print log of each city as it'sbeing processed (with the city number and city name).\n"
   ]
  },
  {
   "cell_type": "code",
   "execution_count": 9,
   "metadata": {},
   "outputs": [
    {
     "data": {
      "text/plain": [
       "['airai',\n",
       " 'mwinilunga',\n",
       " 'klaksvik',\n",
       " 'takoradi',\n",
       " 'albany',\n",
       " 'yicheng',\n",
       " 'oksfjord',\n",
       " 'punta arenas']"
      ]
     },
     "execution_count": 9,
     "metadata": {},
     "output_type": "execute_result"
    }
   ],
   "source": [
    "cities[:8]"
   ]
  },
  {
   "cell_type": "code",
   "execution_count": null,
   "metadata": {},
   "outputs": [
    {
     "name": "stdout",
     "output_type": "stream",
     "text": [
      "Beginning Data Retrieval\n",
      "-----------------------------\n",
      "Processing Record 1 of Set 1 | saint anthony\n",
      "Processing Record 2 of Set 1 | luderitz\n",
      "Processing Record 3 of Set 1 | kodiak\n",
      "Processing Record 4 of Set 1 | avarua\n",
      "Processing Record 5 of Set 1 | bengkulu\n",
      "Processing Record 6 of Set 1 | nisia floresta\n",
      "Processing Record 7 of Set 1 | hermanus\n",
      "Processing Record 8 of Set 1 | lasa\n",
      "Processing Record 9 of Set 1 | jamestown\n",
      "Processing Record 10 of Set 1 | turayf\n",
      "Processing Record 11 of Set 1 | yellowknife\n",
      "Processing Record 12 of Set 1 | kapaa\n",
      "Processing Record 13 of Set 1 | independence\n",
      "Processing Record 14 of Set 1 | albany\n",
      "Processing Record 15 of Set 1 | okitipupa\n",
      "Processing Record 16 of Set 1 | denpasar\n",
      "Processing Record 17 of Set 1 | nikolskoye\n",
      "Processing Record 18 of Set 1 | atuona\n",
      "Processing Record 19 of Set 1 | busselton\n",
      "Processing Record 20 of Set 1 | opuwo\n",
      "Processing Record 21 of Set 1 | bredasdorp\n",
      "Processing Record 22 of Set 1 | yar-sale\n",
      "Processing Record 23 of Set 1 | tilichiki\n",
      "Processing Record 24 of Set 1 | hinton\n",
      "Processing Record 25 of Set 1 | mataura\n",
      "Processing Record 26 of Set 1 | barrow\n",
      "Processing Record 27 of Set 1 | naze\n",
      "Processing Record 28 of Set 1 | rosario\n",
      "Processing Record 29 of Set 1 | rikitea\n",
      "Processing Record 30 of Set 1 | orapa\n",
      "Processing Record 31 of Set 1 | mana\n",
      "Processing Record 32 of Set 1 | saint-philippe\n",
      "Processing Record 33 of Set 1 | puerto ayora\n",
      "Processing Record 34 of Set 1 | esperance\n",
      "Processing Record 35 of Set 1 | filingue\n",
      "City not found. Skipping...\n",
      "Processing Record 36 of Set 1 | vavoua\n",
      "Processing Record 37 of Set 1 | ushuaia\n",
      "City not found. Skipping...\n",
      "Processing Record 38 of Set 1 | kyabram\n",
      "City not found. Skipping...\n",
      "Processing Record 39 of Set 1 | aykhal\n",
      "Processing Record 40 of Set 1 | rockport\n",
      "Processing Record 41 of Set 1 | qaanaaq\n",
      "Processing Record 42 of Set 1 | lorengau\n",
      "Processing Record 43 of Set 1 | punta arenas\n",
      "Processing Record 44 of Set 1 | dikson\n",
      "Processing Record 45 of Set 1 | nouadhibou\n",
      "Processing Record 46 of Set 1 | mahebourg\n",
      "Processing Record 47 of Set 1 | tuatapere\n",
      "Processing Record 48 of Set 1 | el reno\n",
      "Processing Record 49 of Set 1 | mezen\n",
      "City not found. Skipping...\n",
      "Processing Record 50 of Set 1 | hilo\n",
      "City not found. Skipping...\n",
      "Processing Record 0 of Set 2 | georgetown\n",
      "Processing Record 1 of Set 2 | tasiilaq\n",
      "Processing Record 2 of Set 2 | hami\n",
      "Processing Record 3 of Set 2 | alofi\n",
      "Processing Record 4 of Set 2 | korla\n",
      "Processing Record 5 of Set 2 | jalu\n",
      "Processing Record 6 of Set 2 | faanui\n",
      "Processing Record 7 of Set 2 | sola\n",
      "Processing Record 8 of Set 2 | luza\n",
      "Processing Record 9 of Set 2 | ribeira grande\n",
      "Processing Record 10 of Set 2 | anaconda\n",
      "Processing Record 11 of Set 2 | madimba\n",
      "Processing Record 12 of Set 2 | nalut\n",
      "Processing Record 13 of Set 2 | sassandra\n",
      "Processing Record 14 of Set 2 | ovre ardal\n",
      "Processing Record 15 of Set 2 | cape town\n",
      "Processing Record 16 of Set 2 | cabo san lucas\n",
      "Processing Record 17 of Set 2 | sinnamary\n",
      "Processing Record 18 of Set 2 | kavieng\n",
      "Processing Record 19 of Set 2 | chokurdakh\n",
      "Processing Record 20 of Set 2 | vila franca do campo\n",
      "Processing Record 21 of Set 2 | husavik\n",
      "Processing Record 22 of Set 2 | verkhnyaya inta\n",
      "Processing Record 23 of Set 2 | hobart\n",
      "Processing Record 24 of Set 2 | lucapa\n",
      "Processing Record 25 of Set 2 | arroyo\n",
      "Processing Record 26 of Set 2 | odweyne\n",
      "Processing Record 27 of Set 2 | faya\n",
      "City not found. Skipping...\n",
      "Processing Record 28 of Set 2 | floro\n",
      "City not found. Skipping...\n",
      "Processing Record 29 of Set 2 | upernavik\n",
      "Processing Record 30 of Set 2 | coquimbo\n",
      "Processing Record 31 of Set 2 | new norfolk\n",
      "Processing Record 32 of Set 2 | tallahassee\n",
      "Processing Record 33 of Set 2 | fortuna\n",
      "Processing Record 34 of Set 2 | arraial do cabo\n",
      "Processing Record 35 of Set 2 | chimoio\n",
      "Processing Record 36 of Set 2 | mvangue\n",
      "Processing Record 37 of Set 2 | iqaluit\n",
      "Processing Record 38 of Set 2 | almonte\n",
      "Processing Record 39 of Set 2 | goroka\n",
      "City not found. Skipping...\n",
      "Processing Record 40 of Set 2 | grindavik\n",
      "Processing Record 41 of Set 2 | forio\n",
      "Processing Record 42 of Set 2 | bahia blanca\n",
      "Processing Record 43 of Set 2 | mar del plata\n",
      "Processing Record 44 of Set 2 | saskylakh\n",
      "Processing Record 45 of Set 2 | arenapolis\n",
      "Processing Record 46 of Set 2 | flinders\n",
      "City not found. Skipping...\n",
      "Processing Record 47 of Set 2 | vila velha\n",
      "Processing Record 48 of Set 2 | bathsheba\n",
      "Processing Record 49 of Set 2 | thinadhoo\n",
      "Processing Record 50 of Set 2 | zyryanka\n",
      "Processing Record 0 of Set 3 | bethel\n",
      "Processing Record 1 of Set 3 | bonavista\n",
      "Processing Record 2 of Set 3 | kahului\n",
      "Processing Record 3 of Set 3 | trairi\n",
      "Processing Record 4 of Set 3 | codrington\n",
      "City not found. Skipping...\n",
      "Processing Record 5 of Set 3 | arbroath\n",
      "Processing Record 6 of Set 3 | leningradskiy\n",
      "Processing Record 7 of Set 3 | jhusi\n",
      "Processing Record 8 of Set 3 | kavaratti\n",
      "Processing Record 9 of Set 3 | marfino\n",
      "Processing Record 10 of Set 3 | bourail\n",
      "Processing Record 11 of Set 3 | camacupa\n",
      "Processing Record 12 of Set 3 | san patricio\n",
      "Processing Record 13 of Set 3 | carnarvon\n",
      "Processing Record 14 of Set 3 | lagoa\n",
      "Processing Record 15 of Set 3 | bambous virieux\n",
      "Processing Record 16 of Set 3 | hithadhoo\n",
      "Processing Record 17 of Set 3 | nova olimpia\n",
      "Processing Record 18 of Set 3 | gushikawa\n",
      "Processing Record 19 of Set 3 | ponta do sol\n",
      "Processing Record 20 of Set 3 | butaritari\n",
      "Processing Record 21 of Set 3 | ostrovnoy\n",
      "Processing Record 22 of Set 3 | morondava\n",
      "Processing Record 23 of Set 3 | vaini\n",
      "Processing Record 24 of Set 3 | gaoua\n",
      "Processing Record 25 of Set 3 | surt\n",
      "Processing Record 26 of Set 3 | brigantine\n",
      "Processing Record 27 of Set 3 | port alfred\n",
      "Processing Record 28 of Set 3 | provideniya\n",
      "Processing Record 29 of Set 3 | zhigansk\n",
      "Processing Record 30 of Set 3 | torbay\n",
      "Processing Record 31 of Set 3 | deputatskiy\n",
      "Processing Record 32 of Set 3 | lokbatan\n",
      "Processing Record 33 of Set 3 | asosa\n",
      "Processing Record 34 of Set 3 | ambovombe\n",
      "Processing Record 35 of Set 3 | katsuura\n",
      "Processing Record 36 of Set 3 | kapit\n",
      "Processing Record 37 of Set 3 | qaqortoq\n",
      "Processing Record 38 of Set 3 | te anau\n",
      "Processing Record 39 of Set 3 | bubaque\n",
      "Processing Record 40 of Set 3 | chuy\n",
      "Processing Record 41 of Set 3 | tucuma\n",
      "Processing Record 42 of Set 3 | severo-kurilsk\n",
      "Processing Record 43 of Set 3 | erzin\n",
      "Processing Record 44 of Set 3 | alta floresta\n",
      "Processing Record 45 of Set 3 | kumluca\n",
      "Processing Record 46 of Set 3 | sandwick\n",
      "Processing Record 47 of Set 3 | riberalta\n",
      "Processing Record 48 of Set 3 | paredon\n",
      "Processing Record 49 of Set 3 | souillac\n",
      "Processing Record 50 of Set 3 | mecca\n",
      "Processing Record 0 of Set 4 | utete\n",
      "Processing Record 1 of Set 4 | svecha\n",
      "Processing Record 2 of Set 4 | tiksi\n",
      "Processing Record 3 of Set 4 | saint george\n",
      "Processing Record 4 of Set 4 | khatanga\n",
      "Processing Record 5 of Set 4 | itabirito\n",
      "Processing Record 6 of Set 4 | norman wells\n",
      "Processing Record 7 of Set 4 | tuktoyaktuk\n",
      "Processing Record 8 of Set 4 | huarmey\n",
      "Processing Record 9 of Set 4 | rabak\n",
      "Processing Record 10 of Set 4 | akropong\n",
      "Processing Record 11 of Set 4 | aracruz\n",
      "Processing Record 12 of Set 4 | ulladulla\n",
      "Processing Record 13 of Set 4 | pangnirtung\n",
      "Processing Record 14 of Set 4 | tailai\n",
      "Processing Record 15 of Set 4 | oranjemund\n",
      "Processing Record 16 of Set 4 | coihaique\n",
      "Processing Record 17 of Set 4 | aquiraz\n",
      "City not found. Skipping...\n",
      "Processing Record 18 of Set 4 | castro\n",
      "Processing Record 19 of Set 4 | alyangula\n",
      "Processing Record 20 of Set 4 | nanortalik\n",
      "Processing Record 21 of Set 4 | belmonte\n",
      "Processing Record 22 of Set 4 | ancud\n",
      "Processing Record 23 of Set 4 | longyearbyen\n",
      "Processing Record 24 of Set 4 | englewood\n",
      "Processing Record 25 of Set 4 | salalah\n",
      "Processing Record 26 of Set 4 | bluff\n",
      "Processing Record 27 of Set 4 | puri\n",
      "City not found. Skipping...\n",
      "Processing Record 28 of Set 4 | kieta\n",
      "Processing Record 29 of Set 4 | diamantina\n",
      "Processing Record 30 of Set 4 | kopayhorod\n",
      "Processing Record 31 of Set 4 | ilulissat\n",
      "Processing Record 32 of Set 4 | havre-saint-pierre\n",
      "Processing Record 33 of Set 4 | hofn\n",
      "Processing Record 34 of Set 4 | bose\n",
      "Processing Record 35 of Set 4 | nishihara\n",
      "Processing Record 36 of Set 4 | kruisfontein\n",
      "Processing Record 37 of Set 4 | gornopravdinsk\n",
      "Processing Record 38 of Set 4 | clyde river\n",
      "Processing Record 39 of Set 4 | namibe\n"
     ]
    },
    {
     "name": "stdout",
     "output_type": "stream",
     "text": [
      "Processing Record 40 of Set 4 | soe\n",
      "Processing Record 41 of Set 4 | itarema\n",
      "Processing Record 42 of Set 4 | grand gaube\n",
      "Processing Record 43 of Set 4 | el sauzal\n",
      "Processing Record 44 of Set 4 | xunchang\n",
      "Processing Record 45 of Set 4 | puerto quijarro\n",
      "Processing Record 46 of Set 4 | nadym\n",
      "Processing Record 47 of Set 4 | les cayes\n",
      "Processing Record 48 of Set 4 | fairbanks\n",
      "Processing Record 49 of Set 4 | banda aceh\n",
      "Processing Record 50 of Set 4 | asfi\n",
      "Processing Record 0 of Set 5 | gamba\n",
      "Processing Record 1 of Set 5 | harindanga\n",
      "Processing Record 2 of Set 5 | labuan\n",
      "City not found. Skipping...\n",
      "Processing Record 3 of Set 5 | san jose\n",
      "Processing Record 4 of Set 5 | paamiut\n",
      "Processing Record 5 of Set 5 | solnechnyy\n",
      "Processing Record 6 of Set 5 | lakatoro\n",
      "Processing Record 7 of Set 5 | sokoni\n",
      "City not found. Skipping...\n",
      "Processing Record 8 of Set 5 | severobaykalsk\n",
      "Processing Record 9 of Set 5 | polunochnoye\n",
      "Processing Record 10 of Set 5 | ust-tsilma\n",
      "City not found. Skipping...\n",
      "Processing Record 11 of Set 5 | carballo\n",
      "Processing Record 12 of Set 5 | kugulta\n",
      "Processing Record 13 of Set 5 | presidencia roque saenz pena\n",
      "Processing Record 14 of Set 5 | ures\n",
      "Processing Record 15 of Set 5 | pisco\n",
      "City not found. Skipping...\n",
      "City not found. Skipping...\n",
      "City not found. Skipping...\n",
      "Processing Record 16 of Set 5 | markala\n",
      "City not found. Skipping...\n",
      "Processing Record 17 of Set 5 | guerrero negro\n",
      "Processing Record 18 of Set 5 | samarai\n",
      "Processing Record 19 of Set 5 | kaitangata\n",
      "Processing Record 20 of Set 5 | sao joao da barra\n",
      "Processing Record 21 of Set 5 | boyolangu\n",
      "Processing Record 22 of Set 5 | amasya\n",
      "City not found. Skipping...\n",
      "City not found. Skipping...\n",
      "Processing Record 23 of Set 5 | yumen\n",
      "Processing Record 24 of Set 5 | kirkwall\n",
      "Processing Record 25 of Set 5 | winfield\n",
      "Processing Record 26 of Set 5 | chernoyerkovskaya\n",
      "Processing Record 27 of Set 5 | aljezur\n",
      "Processing Record 28 of Set 5 | canete\n",
      "Processing Record 29 of Set 5 | debre birhan\n",
      "Processing Record 30 of Set 5 | pochutla\n",
      "Processing Record 31 of Set 5 | kununurra\n",
      "Processing Record 32 of Set 5 | vostok\n",
      "Processing Record 33 of Set 5 | blois\n",
      "Processing Record 34 of Set 5 | batagay\n",
      "Processing Record 35 of Set 5 | cartagena del chaira\n",
      "Processing Record 36 of Set 5 | tautira\n",
      "Processing Record 37 of Set 5 | axim\n",
      "Processing Record 38 of Set 5 | ryzdvyanyy\n",
      "Processing Record 39 of Set 5 | amapa\n",
      "Processing Record 40 of Set 5 | camopi\n",
      "Processing Record 41 of Set 5 | harper\n",
      "City not found. Skipping...\n",
      "Processing Record 42 of Set 5 | nacala\n",
      "Processing Record 43 of Set 5 | komsomolskiy\n",
      "Processing Record 44 of Set 5 | glendive\n",
      "Processing Record 45 of Set 5 | mehamn\n",
      "Processing Record 46 of Set 5 | port elizabeth\n",
      "Processing Record 47 of Set 5 | tecoanapa\n",
      "Processing Record 48 of Set 5 | lompoc\n",
      "Processing Record 49 of Set 5 | cayenne\n",
      "Processing Record 50 of Set 5 | lawrenceburg\n",
      "Processing Record 0 of Set 6 | sauteurs\n",
      "Processing Record 1 of Set 6 | sorland\n",
      "Processing Record 2 of Set 6 | college\n",
      "Processing Record 3 of Set 6 | vardo\n",
      "Processing Record 4 of Set 6 | diamantino\n",
      "Processing Record 5 of Set 6 | ilhabela\n",
      "City not found. Skipping...\n",
      "Processing Record 6 of Set 6 | niamey\n",
      "Processing Record 7 of Set 6 | san ramon de la nueva oran\n",
      "Processing Record 8 of Set 6 | san francisco\n"
     ]
    }
   ],
   "source": [
    "#create empty lists\n",
    "city_name = []\n",
    "cloudiness = []\n",
    "country = []\n",
    "date = []\n",
    "humidity = []\n",
    "lat = []\n",
    "lng = []\n",
    "max_temp = []\n",
    "wind_speed = []\n",
    "\n",
    "#weather api \n",
    "url = 'http://api.openweathermap.org/data/2.5/weather'\n",
    "\n",
    "#print statement\n",
    "print('Beginning Data Retrieval')\n",
    "print('-----------------------------')\n",
    "\n",
    "record = 0\n",
    "set_count = 1\n",
    "for city in cities:\n",
    "    #create parameters for api call \n",
    "    params={\n",
    "        \"q\":city,\n",
    "        \"units\":\"imperial\",\n",
    "        \"appid\": weather_api_key\n",
    "    }\n",
    "    try:\n",
    "        response = requests.get(url, params)\n",
    "        #see if API call successful\n",
    "        #print(response.url)\n",
    "        results = response.json()\n",
    "        #reformat to see data better\n",
    "        #print(json.dumps(results, indent=4, sort_keys=True))\n",
    "        cloudiness.append(results[\"clouds\"][\"all\"])\n",
    "        date.append(results[\"dt\"])\n",
    "        humidity.append(results[\"main\"][\"humidity\"])\n",
    "        lat.append(results[\"coord\"][\"lat\"])\n",
    "        lng.append(results[\"coord\"][\"lon\"])\n",
    "        max_temp.append(results[\"main\"][\"temp_max\"])\n",
    "        wind_speed.append(results[\"wind\"][\"speed\"])\n",
    "        #increase counter by one, include a set count \n",
    "        if record > 49:\n",
    "            record = 0 \n",
    "            set_count +=1\n",
    "        else:\n",
    "            record += 1\n",
    "        print(f\"Processing Record {record} of Set {set_count} | {city}\")\n",
    "    \n",
    "    except Exception:\n",
    "        print(\"City not found. Skipping...\")\n",
    "\n",
    "print(\"------------------------------\")\n",
    "print(\"Data Retrieval Complete\")\n",
    "print(\"------------------------------\")"
   ]
  },
  {
   "cell_type": "code",
   "execution_count": null,
   "metadata": {},
   "outputs": [],
   "source": [
    "\n"
   ]
  },
  {
   "cell_type": "code",
   "execution_count": null,
   "metadata": {},
   "outputs": [],
   "source": []
  },
  {
   "cell_type": "code",
   "execution_count": null,
   "metadata": {},
   "outputs": [],
   "source": []
  },
  {
   "cell_type": "markdown",
   "metadata": {},
   "source": [
    "### Convert Raw Data to DataFrame\n",
    "* Export the city data into a .csv.\n",
    "* Display the DataFrame"
   ]
  },
  {
   "cell_type": "code",
   "execution_count": null,
   "metadata": {},
   "outputs": [],
   "source": []
  },
  {
   "cell_type": "code",
   "execution_count": null,
   "metadata": {},
   "outputs": [],
   "source": []
  },
  {
   "cell_type": "markdown",
   "metadata": {},
   "source": [
    "### Plotting the Data\n",
    "* Use proper labeling of the plots using plot titles (including date of analysis) and axes labels.\n",
    "* Save the plotted figures as .pngs."
   ]
  },
  {
   "cell_type": "markdown",
   "metadata": {},
   "source": [
    "#### Latitude vs. Temperature Plot"
   ]
  },
  {
   "cell_type": "code",
   "execution_count": null,
   "metadata": {
    "scrolled": true
   },
   "outputs": [],
   "source": []
  },
  {
   "cell_type": "markdown",
   "metadata": {},
   "source": [
    "#### Latitude vs. Humidity Plot"
   ]
  },
  {
   "cell_type": "code",
   "execution_count": null,
   "metadata": {},
   "outputs": [],
   "source": []
  },
  {
   "cell_type": "markdown",
   "metadata": {},
   "source": [
    "#### Latitude vs. Cloudiness Plot"
   ]
  },
  {
   "cell_type": "code",
   "execution_count": null,
   "metadata": {},
   "outputs": [],
   "source": []
  },
  {
   "cell_type": "markdown",
   "metadata": {},
   "source": [
    "#### Latitude vs. Wind Speed Plot"
   ]
  },
  {
   "cell_type": "code",
   "execution_count": null,
   "metadata": {},
   "outputs": [],
   "source": []
  },
  {
   "cell_type": "markdown",
   "metadata": {},
   "source": [
    "## Linear Regression"
   ]
  },
  {
   "cell_type": "code",
   "execution_count": 6,
   "metadata": {},
   "outputs": [],
   "source": [
    "# OPTIONAL: Create a function to create Linear Regression plots\n"
   ]
  },
  {
   "cell_type": "code",
   "execution_count": 7,
   "metadata": {},
   "outputs": [],
   "source": [
    "# Create Northern and Southern Hemisphere DataFrames\n"
   ]
  },
  {
   "cell_type": "markdown",
   "metadata": {},
   "source": [
    "####  Northern Hemisphere - Max Temp vs. Latitude Linear Regression"
   ]
  },
  {
   "cell_type": "code",
   "execution_count": null,
   "metadata": {},
   "outputs": [],
   "source": []
  },
  {
   "cell_type": "markdown",
   "metadata": {},
   "source": [
    "####  Southern Hemisphere - Max Temp vs. Latitude Linear Regression"
   ]
  },
  {
   "cell_type": "code",
   "execution_count": null,
   "metadata": {},
   "outputs": [],
   "source": []
  },
  {
   "cell_type": "markdown",
   "metadata": {},
   "source": [
    "####  Northern Hemisphere - Humidity (%) vs. Latitude Linear Regression"
   ]
  },
  {
   "cell_type": "code",
   "execution_count": null,
   "metadata": {},
   "outputs": [],
   "source": []
  },
  {
   "cell_type": "markdown",
   "metadata": {},
   "source": [
    "####  Southern Hemisphere - Humidity (%) vs. Latitude Linear Regression"
   ]
  },
  {
   "cell_type": "code",
   "execution_count": null,
   "metadata": {},
   "outputs": [],
   "source": []
  },
  {
   "cell_type": "markdown",
   "metadata": {},
   "source": [
    "####  Northern Hemisphere - Cloudiness (%) vs. Latitude Linear Regression"
   ]
  },
  {
   "cell_type": "code",
   "execution_count": null,
   "metadata": {},
   "outputs": [],
   "source": []
  },
  {
   "cell_type": "markdown",
   "metadata": {},
   "source": [
    "####  Southern Hemisphere - Cloudiness (%) vs. Latitude Linear Regression"
   ]
  },
  {
   "cell_type": "code",
   "execution_count": null,
   "metadata": {},
   "outputs": [],
   "source": []
  },
  {
   "cell_type": "markdown",
   "metadata": {},
   "source": [
    "####  Northern Hemisphere - Wind Speed (mph) vs. Latitude Linear Regression"
   ]
  },
  {
   "cell_type": "code",
   "execution_count": null,
   "metadata": {},
   "outputs": [],
   "source": []
  },
  {
   "cell_type": "markdown",
   "metadata": {},
   "source": [
    "####  Southern Hemisphere - Wind Speed (mph) vs. Latitude Linear Regression"
   ]
  },
  {
   "cell_type": "code",
   "execution_count": null,
   "metadata": {},
   "outputs": [],
   "source": []
  },
  {
   "cell_type": "code",
   "execution_count": null,
   "metadata": {},
   "outputs": [],
   "source": []
  }
 ],
 "metadata": {
  "anaconda-cloud": {},
  "kernel_info": {
   "name": "python3"
  },
  "kernelspec": {
   "display_name": "Python 3",
   "language": "python",
   "name": "python3"
  },
  "language_info": {
   "codemirror_mode": {
    "name": "ipython",
    "version": 3
   },
   "file_extension": ".py",
   "mimetype": "text/x-python",
   "name": "python",
   "nbconvert_exporter": "python",
   "pygments_lexer": "ipython3",
   "version": "3.7.1"
  },
  "latex_envs": {
   "LaTeX_envs_menu_present": true,
   "autoclose": false,
   "autocomplete": true,
   "bibliofile": "biblio.bib",
   "cite_by": "apalike",
   "current_citInitial": 1,
   "eqLabelWithNumbers": true,
   "eqNumInitial": 1,
   "hotkeys": {
    "equation": "Ctrl-E",
    "itemize": "Ctrl-I"
   },
   "labels_anchors": false,
   "latex_user_defs": false,
   "report_style_numbering": false,
   "user_envs_cfg": false
  },
  "nteract": {
   "version": "0.12.3"
  }
 },
 "nbformat": 4,
 "nbformat_minor": 2
}
